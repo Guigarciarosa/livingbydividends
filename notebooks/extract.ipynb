{
 "cells": [
  {
   "cell_type": "markdown",
   "metadata": {},
   "source": [
    "## 1.0 Bibliotecas e Funções"
   ]
  },
  {
   "cell_type": "markdown",
   "metadata": {},
   "source": [
    "### 1.1. Bibliotecas"
   ]
  },
  {
   "cell_type": "code",
   "execution_count": 4,
   "metadata": {},
   "outputs": [],
   "source": [
    "\n",
    "# data manipulation libs\n",
    "import numpy as np\n",
    "import pandas as pd\n",
    "# date and time libs\n",
    "import datetime as dt\n",
    "from datetime import timedelta\n",
    "# using a soup lib to scrapp the page\n",
    "import requests\n",
    "from bs4 import BeautifulSoup\n",
    "import urllib.request\n",
    "import urllib.parse\n",
    "# lib to pass cookies\n",
    "import http.cookiejar\n",
    "from lxml.html import fragment_fromstring\n",
    "import re\n",
    "# libs to clean data exported data\n",
    "from collections import OrderedDict\n",
    "from decimal import Decimal\n",
    "from functools import reduce\n"
   ]
  },
  {
   "cell_type": "markdown",
   "metadata": {},
   "source": [
    "### 1.2. Funções"
   ]
  },
  {
   "cell_type": "code",
   "execution_count": 5,
   "metadata": {},
   "outputs": [],
   "source": [
    "# classe contendo todas as funções personalizadas\n",
    "class functions(object):\n",
    "\n",
    "    def __init__(self) -> None:\n",
    "        pass\n",
    "\n",
    "    def format_currency(x):\n",
    "        return \"R${:,.2f}\".format(x)\n",
    "\n",
    "    def format_perc( x):\n",
    "        return \"{}%\".format(x)\n",
    "\n",
    "    def today():\n",
    "        return dt.date.today()\n",
    "\n",
    "    def replace_nan(df,column,to_replace,repl):\n",
    "        df[column] = df[column].replace(to_replace,repl)\n",
    "    \n",
    "    def replace_nan_str(df,column:str,to_replace:str,repl:str):\n",
    "        df[column] = df[column].str.replace(to_replace,repl)\n",
    "\n",
    "    def change_type(df,column,type):\n",
    "        df[column] = df[column].astype(type, errors='ignore')\n",
    "\n",
    "    def options():\n",
    "        global pd_options\n",
    "        pd_options = pd.options.mode.chained_assignment = None\n",
    "\n",
    "    def column_index(df, query_cols):\n",
    "        cols = df.columns.values\n",
    "        sidx = np.argsort(cols)\n",
    "        return sidx[np.searchsorted(cols,query_cols,sorter=sidx)]\n",
    "\n",
    "    def inicio_mes():\n",
    "        hoje = dt.datetime.today() \n",
    "        inicio_mes_data = hoje - timedelta(hoje.day)+ timedelta(days=1)\n",
    "        return inicio_mes_data\n",
    "        \n",
    "    def round_data(df,columns_to_round):\n",
    "        df[columns_to_round] = np.round(df[columns_to_round],2)\n",
    "    \n",
    "    def centralizar_valor(valor):\n",
    "        return f'{valor:^10}'\n",
    "\n",
    "    def merge_all_dfs(dfs,name:str,type_of_merge:str):\n",
    "        df = reduce(lambda left, right: pd.merge(left,right, on=name, how=type_of_merge), dfs)\n",
    "        return df\n",
    "    \n",
    "    def decimal_point_thousand(df, column):\n",
    "        df[column] = df[column].apply(lambda x: str(x).replace('.', '', 1))"
   ]
  },
  {
   "cell_type": "markdown",
   "metadata": {},
   "source": [
    "## 2.0 Extração"
   ]
  },
  {
   "cell_type": "code",
   "execution_count": 6,
   "metadata": {},
   "outputs": [],
   "source": [
    "# url de extracao\n",
    "base_url = r\"https://www.fundamentus.com.br/resultado.php\""
   ]
  },
  {
   "cell_type": "code",
   "execution_count": 7,
   "metadata": {},
   "outputs": [],
   "source": [
    "# desabilitar cookies\n",
    "cookie_jar = http.cookiejar.CookieJar()\n",
    "opener = urllib.request.build_opener(urllib.request.HTTPCookieProcessor(cookie_jar))\n",
    "opener.addheaders = [('User-agent', 'Mozilla/5.0 (Windows; U; Windows NT 6.1; rv:2.2) Gecko/20110201'),\n",
    "                         ('Accept', 'text/html, text/plain, text/css, text/sgml, */*;q=0.01')]"
   ]
  },
  {
   "cell_type": "markdown",
   "metadata": {},
   "source": [
    "### 2.1 Extracao de Html"
   ]
  },
  {
   "cell_type": "code",
   "execution_count": 12,
   "metadata": {},
   "outputs": [],
   "source": [
    "# usar o opener para acessar a url base\n",
    "html = opener.open(base_url)\n",
    "# decodificar em ISO8859\n",
    "html_content = html.read().decode('ISO-8859-1')"
   ]
  },
  {
   "cell_type": "code",
   "execution_count": 13,
   "metadata": {},
   "outputs": [],
   "source": [
    "# Fazer o soup\n",
    "soup = BeautifulSoup(html_content,'html.parser')"
   ]
  },
  {
   "cell_type": "code",
   "execution_count": 14,
   "metadata": {},
   "outputs": [],
   "source": [
    "#extrair a tabela do html\n",
    "table = soup.find_all(\n",
    "   'table'\n",
    ")"
   ]
  },
  {
   "cell_type": "code",
   "execution_count": 15,
   "metadata": {},
   "outputs": [],
   "source": [
    "tables = table[0]"
   ]
  },
  {
   "cell_type": "code",
   "execution_count": 16,
   "metadata": {},
   "outputs": [],
   "source": [
    "thead = tables.find('thead')"
   ]
  },
  {
   "cell_type": "code",
   "execution_count": 17,
   "metadata": {},
   "outputs": [],
   "source": [
    "headers_cells = thead.find_all('th')"
   ]
  },
  {
   "cell_type": "code",
   "execution_count": 18,
   "metadata": {},
   "outputs": [],
   "source": [
    "headers = []\n",
    "for cell in headers_cells:\n",
    "    headers.append(cell.get_text(strip=True))"
   ]
  },
  {
   "cell_type": "code",
   "execution_count": 19,
   "metadata": {},
   "outputs": [],
   "source": [
    "acoes_data = []"
   ]
  },
  {
   "cell_type": "code",
   "execution_count": 20,
   "metadata": {},
   "outputs": [],
   "source": [
    "rows = tables.find_all('tr')"
   ]
  },
  {
   "cell_type": "code",
   "execution_count": 21,
   "metadata": {},
   "outputs": [],
   "source": [
    "for row in rows[1:]:\n",
    "    cells = row.find_all('td')\n",
    "    nome_acao = cells[0].a.get_text(strip=True)  # Obter o texto da tag <a>\n",
    "    cotacao = cells[1].get_text(strip=True)  # Obter o texto da tag <td>\n",
    "    p_l = cells[2].get_text(strip=True) \n",
    "    p_vp = cells[3].get_text(strip=True)  # Obter o texto da tag <td>\n",
    "    psr = cells[4].get_text(strip=True) \n",
    "    dividend_yield = cells[5].get_text(strip=True) \n",
    "    p_ativo = cells[6].get_text(strip=True)  # Obter o texto da tag <td>\n",
    "    p_cap_giro= cells[7].get_text(strip=True)\n",
    "    p_ebit = cells[8].get_text(strip=True)\n",
    "    p_ativ_circ_liq = cells[9].get_text(strip=True)\n",
    "    ev_ebit = cells[10].get_text(strip=True)\n",
    "    ev_ebitda = cells[11].get_text(strip=True)\n",
    "    mrg_ebit = cells[12].get_text(strip=True)\n",
    "    mrg_liq = cells[13].get_text(strip=True)\n",
    "    liq_corr = cells[14].get_text(strip=True)\n",
    "    roic = cells[15].get_text(strip=True)\n",
    "    roe = cells[16].get_text(strip=True)\n",
    "    liq_2meses = cells[17].get_text(strip=True)\n",
    "    patrim_liq = cells[18].get_text(strip=True)\n",
    "    div_brut_patrimv = cells[19].get_text(strip=True)\n",
    "    cresc_rec_5av= cells[20].get_text(strip=True)\n",
    "\n",
    "# criar um dicionario com os valores encontrados\n",
    "\n",
    "    acoes_data.append({'papel':nome_acao, \n",
    "                       'cotacao':cotacao, \n",
    "                       'p_l':p_l, \n",
    "                       'p_vp':p_vp, \n",
    "                       'psr':psr, \n",
    "                       'div_yield':dividend_yield, \n",
    "                       'p_ativo':p_ativo,\n",
    "                        'p_cap_giro':p_cap_giro, \n",
    "                        'p_ebit':p_ebit, \n",
    "                        'p_ativ_circ_liq':p_ativ_circ_liq,\n",
    "                        'ev_ebit':ev_ebit,\n",
    "                        'ev_ebitda':ev_ebitda,\n",
    "                        'mrg_ebit':mrg_ebit,\n",
    "                        'mrg_liq':mrg_liq,\n",
    "                        'liq_corr':liq_corr,\n",
    "                        'roic':roic,\n",
    "                        'roe':roe, \n",
    "                        'liq_2meses':liq_2meses,\n",
    "                        'patrim_liq':patrim_liq, \n",
    "                        'div_brut_patrim':div_brut_patrimv, \n",
    "                        'cresc_rec_5a':cresc_rec_5av\n",
    "    })"
   ]
  },
  {
   "cell_type": "code",
   "execution_count": 107,
   "metadata": {},
   "outputs": [],
   "source": [
    "stocks_df = pd.DataFrame.from_dict(\n",
    "    acoes_data\n",
    "    )"
   ]
  },
  {
   "cell_type": "code",
   "execution_count": 108,
   "metadata": {},
   "outputs": [],
   "source": [
    "columns_to_replace_perc_ = ['cotacao', 'p_l', 'p_vp', 'psr', 'div_yield', 'p_ativo', 'p_cap_giro', \n",
    "                            'p_ebit', 'p_ativ_circ_liq', 'ev_ebit', 'ev_ebitda','div_yield',\n",
    "                            'mrg_ebit', 'mrg_liq','liq_corr','roic','roe', 'cresc_rec_5a','roe', 'liq_2meses',\n",
    "       'patrim_liq', 'div_brut_patrim', 'cresc_rec_5a']\n"
   ]
  },
  {
   "cell_type": "code",
   "execution_count": 109,
   "metadata": {},
   "outputs": [],
   "source": [
    "for perc in columns_to_replace_perc_:\n",
    "    functions.replace_nan_str(\n",
    "        stocks_df,\n",
    "        perc,\n",
    "        '%',\n",
    "        ''\n",
    "    )\n",
    "\n",
    "    functions.decimal_point_thousand(\n",
    "        stocks_df,\n",
    "        perc\n",
    "    )\n",
    "\n",
    "    functions.replace_nan_str(\n",
    "        stocks_df,\n",
    "        perc,\n",
    "        ',',\n",
    "        '.'\n",
    "    )\n",
    "    "
   ]
  },
  {
   "cell_type": "code",
   "execution_count": 110,
   "metadata": {},
   "outputs": [],
   "source": [
    "for type in columns_to_replace_perc_:\n",
    "    functions.change_type(\n",
    "        stocks_df,\n",
    "        type,\n",
    "        'float64'\n",
    "    )"
   ]
  },
  {
   "cell_type": "code",
   "execution_count": 111,
   "metadata": {},
   "outputs": [
    {
     "name": "stdout",
     "output_type": "stream",
     "text": [
      "<class 'pandas.core.frame.DataFrame'>\n",
      "RangeIndex: 987 entries, 0 to 986\n",
      "Data columns (total 21 columns):\n",
      " #   Column           Non-Null Count  Dtype  \n",
      "---  ------           --------------  -----  \n",
      " 0   papel            987 non-null    object \n",
      " 1   cotacao          987 non-null    float64\n",
      " 2   p_l              987 non-null    float64\n",
      " 3   p_vp             987 non-null    float64\n",
      " 4   psr              987 non-null    float64\n",
      " 5   div_yield        987 non-null    float64\n",
      " 6   p_ativo          987 non-null    float64\n",
      " 7   p_cap_giro       987 non-null    float64\n",
      " 8   p_ebit           987 non-null    float64\n",
      " 9   p_ativ_circ_liq  987 non-null    float64\n",
      " 10  ev_ebit          987 non-null    float64\n",
      " 11  ev_ebitda        987 non-null    float64\n",
      " 12  mrg_ebit         987 non-null    float64\n",
      " 13  mrg_liq          987 non-null    float64\n",
      " 14  liq_corr         987 non-null    float64\n",
      " 15  roic             987 non-null    float64\n",
      " 16  roe              987 non-null    float64\n",
      " 17  liq_2meses       987 non-null    object \n",
      " 18  patrim_liq       987 non-null    object \n",
      " 19  div_brut_patrim  987 non-null    float64\n",
      " 20  cresc_rec_5a     987 non-null    float64\n",
      "dtypes: float64(18), object(3)\n",
      "memory usage: 162.1+ KB\n"
     ]
    }
   ],
   "source": [
    "stocks_df.info()"
   ]
  },
  {
   "cell_type": "code",
   "execution_count": null,
   "metadata": {},
   "outputs": [],
   "source": []
  },
  {
   "cell_type": "code",
   "execution_count": 17,
   "metadata": {},
   "outputs": [],
   "source": [
    "columns_to_cg = ['cotacao','p_l','p_vp','psr','div_yield','p_ativo','p_cap_giro','p_ebit','p_ativ_circ_liq']"
   ]
  },
  {
   "cell_type": "code",
   "execution_count": 18,
   "metadata": {},
   "outputs": [
    {
     "data": {
      "text/plain": [
       "Index(['papel', 'cotacao', 'p_l', 'p_vp', 'psr', 'div_yield', 'p_ativo',\n",
       "       'p_cap_giro', 'p_ebit', 'p_ativ_circ_liq', 'ev_ebit', 'ev_ebitda',\n",
       "       'mrg_ebit', 'mrg_liq', 'liq_corr', 'roic', 'roe', 'liq_2meses',\n",
       "       'patrim_liq', 'div_brut_patrim', 'cresc_rec_5a'],\n",
       "      dtype='object')"
      ]
     },
     "execution_count": 18,
     "metadata": {},
     "output_type": "execute_result"
    }
   ],
   "source": [
    "for x in columns_to_cg:\n",
    "    functions.change_type(stocks_df,x,str)\n",
    "    functions.replace_nan(stocks_df,x,'.','')\n",
    "\n",
    "stocks_df.columns"
   ]
  },
  {
   "cell_type": "code",
   "execution_count": 22,
   "metadata": {},
   "outputs": [
    {
     "data": {
      "text/html": [
       "<div>\n",
       "<style scoped>\n",
       "    .dataframe tbody tr th:only-of-type {\n",
       "        vertical-align: middle;\n",
       "    }\n",
       "\n",
       "    .dataframe tbody tr th {\n",
       "        vertical-align: top;\n",
       "    }\n",
       "\n",
       "    .dataframe thead th {\n",
       "        text-align: right;\n",
       "    }\n",
       "</style>\n",
       "<table border=\"1\" class=\"dataframe\">\n",
       "  <thead>\n",
       "    <tr style=\"text-align: right;\">\n",
       "      <th></th>\n",
       "      <th>div_yield</th>\n",
       "      <th>mrg_ebit</th>\n",
       "      <th>mrg_liq</th>\n",
       "      <th>roic</th>\n",
       "      <th>roe</th>\n",
       "      <th>cresc_rec_5a</th>\n",
       "    </tr>\n",
       "  </thead>\n",
       "  <tbody>\n",
       "    <tr>\n",
       "      <th>0</th>\n",
       "      <td>0.00</td>\n",
       "      <td>0.00</td>\n",
       "      <td>0.00</td>\n",
       "      <td>0.00</td>\n",
       "      <td>4.10</td>\n",
       "      <td>37.74</td>\n",
       "    </tr>\n",
       "    <tr>\n",
       "      <th>1</th>\n",
       "      <td>0.00</td>\n",
       "      <td>40.85</td>\n",
       "      <td>28.98</td>\n",
       "      <td>22.40</td>\n",
       "      <td>20.11</td>\n",
       "      <td>31.91</td>\n",
       "    </tr>\n",
       "    <tr>\n",
       "      <th>2</th>\n",
       "      <td>0.00</td>\n",
       "      <td>-208.15</td>\n",
       "      <td>-362.66</td>\n",
       "      <td>-13.50</td>\n",
       "      <td>145.70</td>\n",
       "      <td>-41.11</td>\n",
       "    </tr>\n",
       "    <tr>\n",
       "      <th>3</th>\n",
       "      <td>0.00</td>\n",
       "      <td>-208.15</td>\n",
       "      <td>-362.66</td>\n",
       "      <td>-13.50</td>\n",
       "      <td>145.70</td>\n",
       "      <td>-41.11</td>\n",
       "    </tr>\n",
       "    <tr>\n",
       "      <th>4</th>\n",
       "      <td>0.00</td>\n",
       "      <td>0.00</td>\n",
       "      <td>0.00</td>\n",
       "      <td>0.00</td>\n",
       "      <td>-2.08</td>\n",
       "      <td>13.66</td>\n",
       "    </tr>\n",
       "    <tr>\n",
       "      <th>...</th>\n",
       "      <td>...</td>\n",
       "      <td>...</td>\n",
       "      <td>...</td>\n",
       "      <td>...</td>\n",
       "      <td>...</td>\n",
       "      <td>...</td>\n",
       "    </tr>\n",
       "    <tr>\n",
       "      <th>982</th>\n",
       "      <td>0.00</td>\n",
       "      <td>0.00</td>\n",
       "      <td>0.00</td>\n",
       "      <td>0.00</td>\n",
       "      <td>8.02</td>\n",
       "      <td>-6.01</td>\n",
       "    </tr>\n",
       "    <tr>\n",
       "      <th>983</th>\n",
       "      <td>0.00</td>\n",
       "      <td>0.00</td>\n",
       "      <td>0.00</td>\n",
       "      <td>0.00</td>\n",
       "      <td>0.33</td>\n",
       "      <td>10.58</td>\n",
       "    </tr>\n",
       "    <tr>\n",
       "      <th>984</th>\n",
       "      <td>0.00</td>\n",
       "      <td>0.00</td>\n",
       "      <td>0.00</td>\n",
       "      <td>0.00</td>\n",
       "      <td>0.33</td>\n",
       "      <td>10.58</td>\n",
       "    </tr>\n",
       "    <tr>\n",
       "      <th>985</th>\n",
       "      <td>0.00</td>\n",
       "      <td>0.00</td>\n",
       "      <td>0.00</td>\n",
       "      <td>0.00</td>\n",
       "      <td>0.33</td>\n",
       "      <td>10.58</td>\n",
       "    </tr>\n",
       "    <tr>\n",
       "      <th>986</th>\n",
       "      <td>0.21</td>\n",
       "      <td>8.48</td>\n",
       "      <td>0.45</td>\n",
       "      <td>4.04</td>\n",
       "      <td>0.14</td>\n",
       "      <td>46.25</td>\n",
       "    </tr>\n",
       "  </tbody>\n",
       "</table>\n",
       "<p>987 rows × 6 columns</p>\n",
       "</div>"
      ],
      "text/plain": [
       "    div_yield mrg_ebit  mrg_liq    roic     roe cresc_rec_5a\n",
       "0        0.00     0.00     0.00    0.00    4.10        37.74\n",
       "1        0.00    40.85    28.98   22.40   20.11        31.91\n",
       "2        0.00  -208.15  -362.66  -13.50  145.70       -41.11\n",
       "3        0.00  -208.15  -362.66  -13.50  145.70       -41.11\n",
       "4        0.00     0.00     0.00    0.00   -2.08        13.66\n",
       "..        ...      ...      ...     ...     ...          ...\n",
       "982      0.00     0.00     0.00    0.00    8.02        -6.01\n",
       "983      0.00     0.00     0.00    0.00    0.33        10.58\n",
       "984      0.00     0.00     0.00    0.00    0.33        10.58\n",
       "985      0.00     0.00     0.00    0.00    0.33        10.58\n",
       "986      0.21     8.48     0.45    4.04    0.14        46.25\n",
       "\n",
       "[987 rows x 6 columns]"
      ]
     },
     "execution_count": 22,
     "metadata": {},
     "output_type": "execute_result"
    }
   ],
   "source": [
    "stocks_df[['div_yield','mrg_ebit','mrg_liq','roic','roe','cresc_rec_5a']]"
   ]
  },
  {
   "cell_type": "code",
   "execution_count": null,
   "metadata": {},
   "outputs": [],
   "source": []
  },
  {
   "cell_type": "code",
   "execution_count": 72,
   "metadata": {},
   "outputs": [
    {
     "data": {
      "text/html": [
       "<div>\n",
       "<style scoped>\n",
       "    .dataframe tbody tr th:only-of-type {\n",
       "        vertical-align: middle;\n",
       "    }\n",
       "\n",
       "    .dataframe tbody tr th {\n",
       "        vertical-align: top;\n",
       "    }\n",
       "\n",
       "    .dataframe thead th {\n",
       "        text-align: right;\n",
       "    }\n",
       "</style>\n",
       "<table border=\"1\" class=\"dataframe\">\n",
       "  <thead>\n",
       "    <tr style=\"text-align: right;\">\n",
       "      <th></th>\n",
       "      <th>div_yield</th>\n",
       "      <th>mrg_ebit</th>\n",
       "      <th>mrg_liq</th>\n",
       "      <th>roic</th>\n",
       "      <th>roe</th>\n",
       "      <th>cresc_rec_5a</th>\n",
       "    </tr>\n",
       "  </thead>\n",
       "  <tbody>\n",
       "    <tr>\n",
       "      <th>0</th>\n",
       "      <td>0,00</td>\n",
       "      <td>0,00</td>\n",
       "      <td>0,00</td>\n",
       "      <td>0,00</td>\n",
       "      <td>-2,08</td>\n",
       "      <td>13,66</td>\n",
       "    </tr>\n",
       "    <tr>\n",
       "      <th>1</th>\n",
       "      <td>0,00</td>\n",
       "      <td>8,88</td>\n",
       "      <td>10,72</td>\n",
       "      <td>17,68</td>\n",
       "      <td>32,15</td>\n",
       "      <td>8,14</td>\n",
       "    </tr>\n",
       "    <tr>\n",
       "      <th>2</th>\n",
       "      <td>0,00</td>\n",
       "      <td>-208,15</td>\n",
       "      <td>-362,66</td>\n",
       "      <td>-13,50</td>\n",
       "      <td>145,70</td>\n",
       "      <td>-41,11</td>\n",
       "    </tr>\n",
       "    <tr>\n",
       "      <th>3</th>\n",
       "      <td>0,00</td>\n",
       "      <td>40,85</td>\n",
       "      <td>28,98</td>\n",
       "      <td>22,40</td>\n",
       "      <td>20,11</td>\n",
       "      <td>31,91</td>\n",
       "    </tr>\n",
       "    <tr>\n",
       "      <th>4</th>\n",
       "      <td>0,00</td>\n",
       "      <td>40,85</td>\n",
       "      <td>28,98</td>\n",
       "      <td>22,40</td>\n",
       "      <td>20,11</td>\n",
       "      <td>31,91</td>\n",
       "    </tr>\n",
       "    <tr>\n",
       "      <th>...</th>\n",
       "      <td>...</td>\n",
       "      <td>...</td>\n",
       "      <td>...</td>\n",
       "      <td>...</td>\n",
       "      <td>...</td>\n",
       "      <td>...</td>\n",
       "    </tr>\n",
       "    <tr>\n",
       "      <th>1969</th>\n",
       "      <td>0,00</td>\n",
       "      <td>0,00</td>\n",
       "      <td>0,00</td>\n",
       "      <td>0,00</td>\n",
       "      <td>8,02</td>\n",
       "      <td>-6,01</td>\n",
       "    </tr>\n",
       "    <tr>\n",
       "      <th>1970</th>\n",
       "      <td>0,00</td>\n",
       "      <td>0,00</td>\n",
       "      <td>0,00</td>\n",
       "      <td>0,00</td>\n",
       "      <td>0,33</td>\n",
       "      <td>10,58</td>\n",
       "    </tr>\n",
       "    <tr>\n",
       "      <th>1971</th>\n",
       "      <td>0,00</td>\n",
       "      <td>0,00</td>\n",
       "      <td>0,00</td>\n",
       "      <td>0,00</td>\n",
       "      <td>0,33</td>\n",
       "      <td>10,58</td>\n",
       "    </tr>\n",
       "    <tr>\n",
       "      <th>1972</th>\n",
       "      <td>0,00</td>\n",
       "      <td>0,00</td>\n",
       "      <td>0,00</td>\n",
       "      <td>0,00</td>\n",
       "      <td>0,33</td>\n",
       "      <td>10,58</td>\n",
       "    </tr>\n",
       "    <tr>\n",
       "      <th>1973</th>\n",
       "      <td>0,21</td>\n",
       "      <td>8,48</td>\n",
       "      <td>0,45</td>\n",
       "      <td>4,04</td>\n",
       "      <td>0,14</td>\n",
       "      <td>46,25</td>\n",
       "    </tr>\n",
       "  </tbody>\n",
       "</table>\n",
       "<p>1974 rows × 6 columns</p>\n",
       "</div>"
      ],
      "text/plain": [
       "     div_yield mrg_ebit  mrg_liq    roic     roe cresc_rec_5a\n",
       "0         0,00     0,00     0,00    0,00   -2,08        13,66\n",
       "1         0,00     8,88    10,72   17,68   32,15         8,14\n",
       "2         0,00  -208,15  -362,66  -13,50  145,70       -41,11\n",
       "3         0,00    40,85    28,98   22,40   20,11        31,91\n",
       "4         0,00    40,85    28,98   22,40   20,11        31,91\n",
       "...        ...      ...      ...     ...     ...          ...\n",
       "1969      0,00     0,00     0,00    0,00    8,02        -6,01\n",
       "1970      0,00     0,00     0,00    0,00    0,33        10,58\n",
       "1971      0,00     0,00     0,00    0,00    0,33        10,58\n",
       "1972      0,00     0,00     0,00    0,00    0,33        10,58\n",
       "1973      0,21     8,48     0,45    4,04    0,14        46,25\n",
       "\n",
       "[1974 rows x 6 columns]"
      ]
     },
     "execution_count": 72,
     "metadata": {},
     "output_type": "execute_result"
    }
   ],
   "source": []
  },
  {
   "cell_type": "code",
   "execution_count": null,
   "metadata": {},
   "outputs": [],
   "source": []
  }
 ],
 "metadata": {
  "kernelspec": {
   "display_name": "lbd_venv",
   "language": "python",
   "name": "python3"
  },
  "language_info": {
   "codemirror_mode": {
    "name": "ipython",
    "version": 3
   },
   "file_extension": ".py",
   "mimetype": "text/x-python",
   "name": "python",
   "nbconvert_exporter": "python",
   "pygments_lexer": "ipython3",
   "version": "3.9.13"
  },
  "orig_nbformat": 4
 },
 "nbformat": 4,
 "nbformat_minor": 2
}
